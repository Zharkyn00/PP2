{
 "cells": [
  {
   "cell_type": "code",
   "execution_count": null,
   "metadata": {},
   "outputs": [],
   "source": [
    "class StringProcessor:\n",
    "    def __init__(self):\n",
    "        self.text = \"\"\n",
    "    \n",
    "    def getString(self):\n",
    "        self.text = input(\"Enter a string: \")\n",
    "    \n",
    "    def printString(self):\n",
    "        print(self.text.upper())\n",
    "\n",
    "if __name__ == \"__main__\":\n",
    "    processor = StringProcessor()\n",
    "    processor.getString()\n",
    "    processor.printString()"
   ]
  },
  {
   "cell_type": "code",
   "execution_count": null,
   "metadata": {},
   "outputs": [],
   "source": [
    "class Shape:\n",
    "    def area(self):\n",
    "        print(0)\n",
    "\n",
    "class Square(Shape):\n",
    "    def __init__(self):\n",
    "        self.length = float(input(\"Enter the length of the square: \"))\n",
    "    \n",
    "    def area(self):\n",
    "        print(self.length * self.length)\n",
    "\n",
    "if __name__ == \"__main__\":\n",
    "    shape = Shape()\n",
    "    shape.area()\n",
    "    square = Square()\n",
    "    square.area()"
   ]
  },
  {
   "cell_type": "code",
   "execution_count": null,
   "metadata": {},
   "outputs": [
    {
     "name": "stdout",
     "output_type": "stream",
     "text": [
      "0\n"
     ]
    }
   ],
   "source": [
    "class Shape:\n",
    "    def area(self):\n",
    "        print(0)\n",
    "class Rectangle(Shape):\n",
    "    def __init__(self):\n",
    "        self.length = float(input(\"Enter the length of the rectangle: \"))\n",
    "        self.width = float(input(\"Enter the width of the rectangle: \"))\n",
    "    \n",
    "    def area(self):\n",
    "        print(self.length * self.width)\n",
    "\n",
    "if __name__ == \"__main__\":\n",
    "    shape = Shape()\n",
    "    shape.area()\n",
    "    rectangle = Rectangle()\n",
    "    rectangle.area()"
   ]
  },
  {
   "cell_type": "code",
   "execution_count": 3,
   "metadata": {},
   "outputs": [
    {
     "name": "stdout",
     "output_type": "stream",
     "text": [
      "Point coordinates: (3, 4)\n",
      "Point coordinates: (5, 5)\n",
      "Distance between points: 3.1622776601683795\n"
     ]
    }
   ],
   "source": [
    "import math\n",
    "class Point:\n",
    "    def __init__(self, x, y):\n",
    "        self.x = x\n",
    "        self.y = y\n",
    "    \n",
    "    def show(self):\n",
    "        print(f\"Point coordinates: ({self.x}, {self.y})\")\n",
    "    \n",
    "    def move(self, new_x, new_y):\n",
    "        self.x = new_x\n",
    "        self.y = new_y\n",
    "    \n",
    "    def dist(self, initial):\n",
    "        return math.sqrt((self.x - initial.x) ** 2 + (self.y - initial.y) ** 2)\n",
    "\n",
    "if __name__ == \"__main__\":\n",
    "    point1 = Point(3, 4)\n",
    "    point2 = Point(6, 8)\n",
    "    point1.show()\n",
    "    point1.move(5, 5)\n",
    "    point1.show()\n",
    "    print(f\"Distance between points: {point1.dist(point2)}\")"
   ]
  },
  {
   "cell_type": "code",
   "execution_count": 2,
   "metadata": {},
   "outputs": [
    {
     "name": "stdout",
     "output_type": "stream",
     "text": [
      "Deposited 500. New balance: 1500\n",
      "Deposited 300. New balance: 1800\n",
      "Withdrew 200. New balance: 1600\n",
      "Insufficient funds. Withdrawal denied.\n",
      "Final balance for John Doe: 1600\n"
     ]
    }
   ],
   "source": [
    "class Account:\n",
    "    def __init__(self, owner, balance=0.0):\n",
    "        self.owner = owner\n",
    "        self.balance = balance\n",
    "\n",
    "    def deposit(self, amount):\n",
    "        if amount > 0:\n",
    "            self.balance += amount\n",
    "            print(f\"Deposited {amount}. New balance: {self.balance}\")\n",
    "        else:\n",
    "            print(\"Deposit amount must be positive.\")\n",
    "\n",
    "    def withdraw(self, amount):\n",
    "        if amount > self.balance:\n",
    "            print(\"Insufficient funds. Withdrawal denied.\")\n",
    "        elif amount > 0:\n",
    "            self.balance -= amount\n",
    "            print(f\"Withdrew {amount}. New balance: {self.balance}\")\n",
    "        else:\n",
    "            print(\"Withdrawal amount must be positive.\")\n",
    "\n",
    "acc = Account(\"John Doe\", 1000)\n",
    "\n",
    "acc.deposit(500)\n",
    "acc.deposit(300)\n",
    "\n",
    "acc.withdraw(200)\n",
    "acc.withdraw(2000)\n",
    "\n",
    "print(f\"Final balance for {acc.owner}: {acc.balance}\")"
   ]
  },
  {
   "cell_type": "code",
   "execution_count": 1,
   "metadata": {},
   "outputs": [
    {
     "name": "stdout",
     "output_type": "stream",
     "text": [
      "Простые числа: [17, 19, 23, 29]\n"
     ]
    }
   ],
   "source": [
    "\n",
    "def is_prime(n):\n",
    "    if n < 2:\n",
    "        return False\n",
    "    for i in range(2, int(n ** 0.5) + 1):\n",
    "        if n % i == 0:\n",
    "            return False\n",
    "    return True\n",
    "\n",
    "\n",
    "numbers = [10, 15, 17, 19, 22, 23, 29, 30]\n",
    "\n",
    "primes = list(filter(lambda x: is_prime(x), numbers))\n",
    "\n",
    "print(\"Простые числа:\", primes)\n"
   ]
  },
  {
   "cell_type": "code",
   "execution_count": null,
   "metadata": {},
   "outputs": [],
   "source": []
  }
 ],
 "metadata": {
  "kernelspec": {
   "display_name": "Python 3",
   "language": "python",
   "name": "python3"
  },
  "language_info": {
   "codemirror_mode": {
    "name": "ipython",
    "version": 3
   },
   "file_extension": ".py",
   "mimetype": "text/x-python",
   "name": "python",
   "nbconvert_exporter": "python",
   "pygments_lexer": "ipython3",
   "version": "3.12.8"
  }
 },
 "nbformat": 4,
 "nbformat_minor": 2
}
